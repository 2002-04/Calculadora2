{
  "nbformat": 4,
  "nbformat_minor": 0,
  "metadata": {
    "colab": {
      "provenance": []
    },
    "kernelspec": {
      "name": "python3",
      "display_name": "Python 3"
    },
    "language_info": {
      "name": "python"
    }
  },
  "cells": [
    {
      "cell_type": "code",
      "execution_count": null,
      "metadata": {
        "id": "_7LG0JEQhxP9"
      },
      "outputs": [],
      "source": [
        "import numpy as np\n",
        "import matplotlib.pyplot as plt\n",
        "\n",
        "# Parámetros de la portadora (Grupo 6)\n",
        "frecuencia_portadora = 80  # Frecuencia en Hz\n",
        "amplitud_portadora = 1  # Amplitud\n",
        "t = np.linspace(0, 3, 3000)  # Tiempo de simulación (3 segundos con 1000 muestras por segundo)\n",
        "\n",
        "# Señal portadora\n",
        "portadora = amplitud_portadora * np.cos(2 * np.pi * frecuencia_portadora * t)\n",
        "\n",
        "# Visualizar la señal portadora\n",
        "plt.figure(figsize=(10, 4))\n",
        "plt.plot(t, portadora, label='Señal Portadora')\n",
        "plt.title('Señal Portadora')\n",
        "plt.xlabel('Tiempo [s]')\n",
        "plt.ylabel('Amplitud')\n",
        "plt.legend()\n",
        "plt.grid(True)\n",
        "plt.show()\n"
      ]
    }
  ]
}